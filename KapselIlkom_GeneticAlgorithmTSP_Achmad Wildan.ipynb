{
 "cells": [
  {
   "cell_type": "markdown",
   "id": "mathematical-furniture",
   "metadata": {},
   "source": [
    "# A genetic algorithm for optimizing traveling salesman problem (harder case)"
   ]
  },
  {
   "cell_type": "markdown",
   "id": "imported-panel",
   "metadata": {},
   "source": [
    "https://github.com/luthfishahab/geneticalgorithm"
   ]
  },
  {
   "cell_type": "markdown",
   "id": "hairy-supplement",
   "metadata": {},
   "source": [
    "https://www.theprojectspot.com/tutorial-post/applying-a-genetic-algorithm-to-the-travelling-salesman-problem/5"
   ]
  },
  {
   "cell_type": "code",
   "execution_count": 2,
   "id": "hundred-biotechnology",
   "metadata": {},
   "outputs": [],
   "source": [
    "import numpy as np\n",
    "import pandas as pd\n",
    "import matplotlib.pyplot as plt"
   ]
  },
  {
   "cell_type": "code",
   "execution_count": 3,
   "id": "ordered-recognition",
   "metadata": {},
   "outputs": [],
   "source": [
    "x = np.array([0, 20, 40, 100, 100, 100, 80, 60,  0,  0, 40, 40, 60, 50, 30, 90, 10, 20, 60, 80])\n",
    "y = np.array([0,  0,  0,   0,  30,  50, 50, 50, 50, 20, 20, 30, 20, 25, 10, 15, 30, 40, 40, 40])"
   ]
  },
  {
   "cell_type": "code",
   "execution_count": 4,
   "id": "automotive-workstation",
   "metadata": {},
   "outputs": [
    {
     "data": {
      "image/png": "[encoded data removed]",
      "text/plain": [
       "<Figure size 432x288 with 1 Axes>"
      ]
     },
     "metadata": {
      "needs_background": "light"
     },
     "output_type": "display_data"
    }
   ],
   "source": [
    "plt.scatter(x, y)\n",
    "plt.show()"
   ]
  },
  {
   "cell_type": "code",
   "execution_count": 5,
   "id": "focal-albany",
   "metadata": {},
   "outputs": [],
   "source": [
    "# number of cities / points\n",
    "m = len(x)\n",
    "\n",
    "# number of chromosomes in population\n",
    "n = 100\n",
    "\n",
    "# maximum generation\n",
    "N = 200"
   ]
  },
  {
   "cell_type": "code",
   "execution_count": 6,
   "id": "dramatic-nickel",
   "metadata": {},
   "outputs": [],
   "source": [
    "def createPopulation():\n",
    "    pop = np.zeros((n, m), dtype=int)\n",
    "    \n",
    "    for i in range(n):\n",
    "        pop[i] = np.random.permutation(m)\n",
    "    \n",
    "    pop = pd.DataFrame(pop)\n",
    "    \n",
    "    return pop"
   ]
  },
  {
   "cell_type": "code",
   "execution_count": 7,
   "id": "affected-regular",
   "metadata": {},
   "outputs": [],
   "source": [
    "def fitness(pop):\n",
    "    fitness = np.zeros(n, dtype=int)\n",
    "    \n",
    "    for k in range(n):\n",
    "        a = pop.loc[k]\n",
    "\n",
    "        b = 0\n",
    "        for i in range(0, m-1):\n",
    "            b += d[a[i], a[i+1]]\n",
    "        b += d[a[m-1], a[0]]\n",
    "\n",
    "        fitness[k] = b\n",
    "    \n",
    "    pop['fitness'] = fitness\n",
    "    \n",
    "    return pop"
   ]
  },
  {
   "cell_type": "code",
   "execution_count": 8,
   "id": "advisory-penny",
   "metadata": {},
   "outputs": [],
   "source": [
    "def randomSelection(m):\n",
    "    position = np.random.permutation(m)\n",
    "    \n",
    "    return position[0], position[1]"
   ]
  },
  {
   "cell_type": "code",
   "execution_count": 9,
   "id": "abroad-consensus",
   "metadata": {},
   "outputs": [],
   "source": [
    "def crossover(pop):\n",
    "    popc = pop.copy()\n",
    "    for i in range(n):\n",
    "        a, b = randomSelection(m)\n",
    "        idx1 = min(a,b)\n",
    "        idx2 = max(a,b)\n",
    "\n",
    "        temp = list(pop.loc[a][idx1:idx2+1])\n",
    "        temp += [val for val in pop.loc[b] if val not in temp]\n",
    "        \n",
    "        popc.loc[i] = temp\n",
    "    \n",
    "    return popc"
   ]
  },
  {
   "cell_type": "code",
   "execution_count": 10,
   "id": "southwest-combine",
   "metadata": {},
   "outputs": [],
   "source": [
    "def mutation(pop):\n",
    "    popm = pop.copy()\n",
    "    \n",
    "    for i in range(n):\n",
    "        a, b = randomSelection(m)\n",
    "        temp = popm.loc[i][a]\n",
    "        popm.loc[i][a] = popm.loc[i][b]\n",
    "        popm.loc[i][b] = temp\n",
    "\n",
    "    return popm"
   ]
  },
  {
   "cell_type": "code",
   "execution_count": 11,
   "id": "liberal-discovery",
   "metadata": {},
   "outputs": [],
   "source": [
    "def combinePopulation(pop, popc, popm):\n",
    "    popAll = pop.copy()\n",
    "    popAll = popAll.append(popm)\n",
    "    popAll = popAll.append(popm)\n",
    "\n",
    "    popAll = popAll.drop_duplicates()\n",
    "\n",
    "    popAll.index = range(len(popAll))\n",
    "\n",
    "    return popAll"
   ]
  },
  {
   "cell_type": "code",
   "execution_count": 12,
   "id": "superior-nancy",
   "metadata": {},
   "outputs": [],
   "source": [
    "def sort(popAll):\n",
    "    popAll = popAll.sort_values(by=['fitness'])\n",
    "    \n",
    "    popAll.index = range(len(popAll))\n",
    "\n",
    "    return popAll"
   ]
  },
  {
   "cell_type": "code",
   "execution_count": 13,
   "id": "stupid-integer",
   "metadata": {},
   "outputs": [],
   "source": [
    "def elimination(popAll):\n",
    "    pop = popAll.head(n)\n",
    "    \n",
    "    return pop"
   ]
  },
  {
   "cell_type": "code",
   "execution_count": 14,
   "id": "consecutive-algorithm",
   "metadata": {},
   "outputs": [],
   "source": [
    "def plotSolution(pop):\n",
    "    solution = pop.loc[0]\n",
    "    solution = solution.to_numpy()\n",
    "\n",
    "    a = np.zeros(m+1, dtype=int)\n",
    "    b = np.zeros(m+1, dtype=int)\n",
    "\n",
    "    for i in range(m):\n",
    "        a[i] = x[solution[i]]\n",
    "        b[i] = y[solution[i]]\n",
    "\n",
    "    a[m] = a[0]\n",
    "    b[m] = b[0]\n",
    "\n",
    "    plt.plot(a[:-1], b[:-1], marker = 'o')\n",
    "    plt.plot(a[-2:], b[-2:],\"b--\", marker = 'o')\n",
    "    plt.scatter(a[0],b[0],s=200,c=\"b\")\n",
    "    plt.show()"
   ]
  },
  {
   "cell_type": "code",
   "execution_count": 15,
   "id": "selected-amber",
   "metadata": {},
   "outputs": [
    {
     "ename": "NameError",
     "evalue": "name 'd' is not defined",
     "output_type": "error",
     "traceback": [
      "\u001b[1;31m---------------------------------------------------------------------------\u001b[0m",
      "\u001b[1;31mNameError\u001b[0m                                 Traceback (most recent call last)",
      "\u001b[1;32m<ipython-input-15-78a6419b42fd>\u001b[0m in \u001b[0;36m<module>\u001b[1;34m\u001b[0m\n\u001b[0;32m      1\u001b[0m \u001b[0mpop\u001b[0m \u001b[1;33m=\u001b[0m \u001b[0mcreatePopulation\u001b[0m\u001b[1;33m(\u001b[0m\u001b[1;33m)\u001b[0m\u001b[1;33m\u001b[0m\u001b[1;33m\u001b[0m\u001b[0m\n\u001b[1;32m----> 2\u001b[1;33m \u001b[0mpop\u001b[0m \u001b[1;33m=\u001b[0m \u001b[0mfitness\u001b[0m\u001b[1;33m(\u001b[0m\u001b[0mpop\u001b[0m\u001b[1;33m)\u001b[0m\u001b[1;33m\u001b[0m\u001b[1;33m\u001b[0m\u001b[0m\n\u001b[0m\u001b[0;32m      3\u001b[0m \u001b[0mprint\u001b[0m\u001b[1;33m(\u001b[0m\u001b[1;34m'Solusi pada populasi awal'\u001b[0m\u001b[1;33m)\u001b[0m\u001b[1;33m\u001b[0m\u001b[1;33m\u001b[0m\u001b[0m\n\u001b[0;32m      4\u001b[0m \u001b[0mprint\u001b[0m\u001b[1;33m(\u001b[0m\u001b[0mpop\u001b[0m\u001b[1;33m.\u001b[0m\u001b[0mhead\u001b[0m\u001b[1;33m(\u001b[0m\u001b[1;36m1\u001b[0m\u001b[1;33m)\u001b[0m\u001b[1;33m)\u001b[0m\u001b[1;33m\u001b[0m\u001b[1;33m\u001b[0m\u001b[0m\n\u001b[0;32m      5\u001b[0m \u001b[0mplotSolution\u001b[0m\u001b[1;33m(\u001b[0m\u001b[0mpop\u001b[0m\u001b[1;33m)\u001b[0m\u001b[1;33m\u001b[0m\u001b[1;33m\u001b[0m\u001b[0m\n",
      "\u001b[1;32m<ipython-input-7-1a0dcac6b77b>\u001b[0m in \u001b[0;36mfitness\u001b[1;34m(pop)\u001b[0m\n\u001b[0;32m      7\u001b[0m         \u001b[0mb\u001b[0m \u001b[1;33m=\u001b[0m \u001b[1;36m0\u001b[0m\u001b[1;33m\u001b[0m\u001b[1;33m\u001b[0m\u001b[0m\n\u001b[0;32m      8\u001b[0m         \u001b[1;32mfor\u001b[0m \u001b[0mi\u001b[0m \u001b[1;32min\u001b[0m \u001b[0mrange\u001b[0m\u001b[1;33m(\u001b[0m\u001b[1;36m0\u001b[0m\u001b[1;33m,\u001b[0m \u001b[0mm\u001b[0m\u001b[1;33m-\u001b[0m\u001b[1;36m1\u001b[0m\u001b[1;33m)\u001b[0m\u001b[1;33m:\u001b[0m\u001b[1;33m\u001b[0m\u001b[1;33m\u001b[0m\u001b[0m\n\u001b[1;32m----> 9\u001b[1;33m             \u001b[0mb\u001b[0m \u001b[1;33m+=\u001b[0m \u001b[0md\u001b[0m\u001b[1;33m[\u001b[0m\u001b[0ma\u001b[0m\u001b[1;33m[\u001b[0m\u001b[0mi\u001b[0m\u001b[1;33m]\u001b[0m\u001b[1;33m,\u001b[0m \u001b[0ma\u001b[0m\u001b[1;33m[\u001b[0m\u001b[0mi\u001b[0m\u001b[1;33m+\u001b[0m\u001b[1;36m1\u001b[0m\u001b[1;33m]\u001b[0m\u001b[1;33m]\u001b[0m\u001b[1;33m\u001b[0m\u001b[1;33m\u001b[0m\u001b[0m\n\u001b[0m\u001b[0;32m     10\u001b[0m         \u001b[0mb\u001b[0m \u001b[1;33m+=\u001b[0m \u001b[0md\u001b[0m\u001b[1;33m[\u001b[0m\u001b[0ma\u001b[0m\u001b[1;33m[\u001b[0m\u001b[0mm\u001b[0m\u001b[1;33m-\u001b[0m\u001b[1;36m1\u001b[0m\u001b[1;33m]\u001b[0m\u001b[1;33m,\u001b[0m \u001b[0ma\u001b[0m\u001b[1;33m[\u001b[0m\u001b[1;36m0\u001b[0m\u001b[1;33m]\u001b[0m\u001b[1;33m]\u001b[0m\u001b[1;33m\u001b[0m\u001b[1;33m\u001b[0m\u001b[0m\n\u001b[0;32m     11\u001b[0m \u001b[1;33m\u001b[0m\u001b[0m\n",
      "\u001b[1;31mNameError\u001b[0m: name 'd' is not defined"
     ]
    }
   ],
   "source": [
    "pop = createPopulation()\n",
    "pop = fitness(pop)\n",
    "print('Solusi pada populasi awal')\n",
    "print(pop.head(1))\n",
    "plotSolution(pop)\n",
    "\n",
    "for i in range(1, N+1):\n",
    "    popc = crossover(pop)\n",
    "    popc = fitness(popc)\n",
    "\n",
    "    popm = mutation(popc)\n",
    "    popm = fitness(popm)\n",
    "\n",
    "    popAll = combinePopulation(pop, popc, popm)\n",
    "\n",
    "    popAll = sort(popAll)\n",
    "\n",
    "    pop = elimination(popAll)\n",
    "    \n",
    "print()\n",
    "print('Solusi terbaik pada populasi akhir')\n",
    "print(pop.head(1))\n",
    "plotSolution(pop)"
   ]
  },
  {
   "cell_type": "code",
   "execution_count": null,
   "id": "comic-minority",
   "metadata": {},
   "outputs": [],
   "source": []
  }
 ],
 "metadata": {
  "kernelspec": {
   "display_name": "Python 3",
   "language": "python",
   "name": "python3"
  },
  "language_info": {
   "codemirror_mode": {
    "name": "ipython",
    "version": 3
   },
   "file_extension": ".py",
   "mimetype": "text/x-python",
   "name": "python",
   "nbconvert_exporter": "python",
   "pygments_lexer": "ipython3",
   "version": "3.8.8"
  }
 },
 "nbformat": 4,
 "nbformat_minor": 5
}
